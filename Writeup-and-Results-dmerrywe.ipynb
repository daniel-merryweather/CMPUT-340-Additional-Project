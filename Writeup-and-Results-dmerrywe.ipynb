{
 "cells": [
  {
   "cell_type": "markdown",
   "metadata": {},
   "source": [
    "CMPUT340 - Replacement Project\n",
    "By: Daniel Merryweather (1580298 - dmerrywe)\n",
    "\n",
    "In this project I have chosen to take inspiration from Project Topic #2, where I have built upon Lab 5 and implemented Convolutional layers to improve image classification of the MNIST dataset. Further to show the difference between a basic feed forward neural network and a basic convolutional neural network I will also test them against the CIFAR 10 dataset.\n",
    "\n",
    "For simplicity I will use the keras implementation of Conv2D and MaxPooling layers. To keep it fair I have also re-written Lab 5 using TensorFlow/keras functions to isolate optimization in implementation. Both will still use Simple Gradient Descent to perform training.\n",
    "\n",
    "The purpose of this project is to show the difference between using a basic feed forward neural network versus convolutional neural networks in image classification."
   ]
  },
  {
   "cell_type": "code",
   "execution_count": 11,
   "metadata": {
    "scrolled": true
   },
   "outputs": [],
   "source": [
    "# Imports\n",
    "\n",
    "from keras.datasets import mnist\n",
    "from tensorflow.keras.models import Sequential\n",
    "from tensorflow.keras.layers import Flatten, Dense, Conv2D, MaxPooling2D\n",
    "from keras.optimizers import SGD\n",
    "import matplotlib.pyplot as plt\n",
    "import numpy as np\n",
    "from scipy.interpolate import CubicSpline"
   ]
  },
  {
   "cell_type": "markdown",
   "metadata": {},
   "source": [
    "First I shall gather the data from the MNIST dataset.\n",
    "\n",
    "I created a function to make this process a bit simpler. First I truncate the data to a specific training size then normalize the pixel values that originally range from 0 to 255 into a decimal value between 0 and 1.\n",
    "Next I handle label similarly to how it was provided in Lab5, simply enumerating the index and label index to create a one hot vector for each label."
   ]
  },
  {
   "cell_type": "code",
   "execution_count": 12,
   "metadata": {},
   "outputs": [
    {
     "name": "stdout",
     "output_type": "stream",
     "text": [
      "Training set size: 20000\n"
     ]
    }
   ],
   "source": [
    "# Data formatting\n",
    "\n",
    "trainingSize = 20000\n",
    "\n",
    "print(\"Training set size: \" + str(trainingSize)) # Print size of training set\n",
    "\n",
    "# gatherTrainingData: xData, yDate, size\n",
    "#    returns x and y training data after conversion and truncation\n",
    "def gatherTrainingData(xData, yData, size=-1):\n",
    "    x = xData[:size]\n",
    "    x = x / 255 # normalize pixel values from 0-255 to 0-1\n",
    "    y = np.zeros((size, 10))\n",
    "    for index, value in enumerate(yData[:size]):\n",
    "        y[index][value] = 1\n",
    "    return x, y\n",
    "\n",
    "(x_train, y_train), (x_test, y_test) = mnist.load_data() # Gather training data\n",
    "xTrainingData, yTrainingData = gatherTrainingData(x_train, y_train, size=trainingSize)"
   ]
  },
  {
   "cell_type": "markdown",
   "metadata": {},
   "source": [
    "Next I create the model's using keras Sequential models.\n",
    "\n",
    "For the lab 5 model I first flatten the data into a single vector using a Flatten layer. This feeds into a Dense layer with 10 nodes, dense layers will create a weight parameter for every node in the previous connected to every node in the dense layer. Further setting use_bias will specify a bias value for every node in the dense layer.\n",
    "\n",
    "Altogether this will create 28*28*10 weights and 10 biases. Exactly the same as Lab 5.\n",
    "\n",
    "For the convolutional model I use 2 convolutional layers, both with 5x5 kernal sizes that both feed into their respective MaxPooling layer which will give the maximal values for every 2x2 sub matrix in the output from the convolutional layer. Finally I flatten the data and put it through a 10 node dense layer.\n",
    "\n",
    "The number of convolutional filters I chose for each layer were decided based on how close I could get the total parameters to match and be less than the lab 5 model.\n",
    "\n",
    "Altogether the first convolutional layer has 260 parameters, the second convolutional layer has 4518 parameters and finally the dense layer has 2890 parameters for a total of 7668 parameters in the convolutional model.\n",
    "\n",
    "Ensuring that the convolutional model has slightly less parameters than the regular feed\n",
    "forward model from lab 5 will highlight the efficiency of using convolutional layers."
   ]
  },
  {
   "cell_type": "code",
   "execution_count": 13,
   "metadata": {},
   "outputs": [],
   "source": [
    "# Model functions\n",
    "\n",
    "def lab5model():\n",
    "    model = Sequential([\n",
    "        Flatten(input_shape=(28,28)), # Flatten data (no params)\n",
    "        Dense(10, use_bias=True) # Dense layer 28*28*10 weights 10 biases\n",
    "    ], name=\"Lab5Model\")\n",
    "    return model\n",
    "\n",
    "def convolutionalModel():\n",
    "    model = Sequential([\n",
    "        Conv2D(10, (5,5), input_shape=(28,28,1)), # 10 filter convolutional layer with 5x5 kernal\n",
    "        MaxPooling2D(pool_size=(2,2)), # Max pooling layer with 2x2 sub matrix grouping (no params)\n",
    "        Conv2D(18, (5,5)), # 18 filter convolutional layer with 5x5 kernal\n",
    "        MaxPooling2D(pool_size=(2,2)), # Final max pooling layer with 2x2 sub matrix grouping (no params)\n",
    "        Flatten(), # Flatten data (no params)\n",
    "        Dense(10, use_bias=True) # Dense layer with 10 nodes.\n",
    "    ], name=\"ConvolutionalModel\")\n",
    "    return model"
   ]
  },
  {
   "cell_type": "markdown",
   "metadata": {},
   "source": [
    "Staying true to lab 5, I compile the model's using SDG (simple gradient descent) and calculate loss (error) using mean squared error.\n",
    "\n",
    "For more detail on the model's I print their summaries below."
   ]
  },
  {
   "cell_type": "code",
   "execution_count": 14,
   "metadata": {
    "scrolled": true
   },
   "outputs": [
    {
     "name": "stdout",
     "output_type": "stream",
     "text": [
      "Model: \"Lab5Model\"\n",
      "_________________________________________________________________\n",
      "Layer (type)                 Output Shape              Param #   \n",
      "=================================================================\n",
      "flatten_3 (Flatten)          (None, 784)               0         \n",
      "_________________________________________________________________\n",
      "dense_3 (Dense)              (None, 10)                7850      \n",
      "=================================================================\n",
      "Total params: 7,850\n",
      "Trainable params: 7,850\n",
      "Non-trainable params: 0\n",
      "_________________________________________________________________\n",
      "Model: \"ConvolutionalModel\"\n",
      "_________________________________________________________________\n",
      "Layer (type)                 Output Shape              Param #   \n",
      "=================================================================\n",
      "conv2d_3 (Conv2D)            (None, 24, 24, 10)        260       \n",
      "_________________________________________________________________\n",
      "max_pooling2d_3 (MaxPooling2 (None, 12, 12, 10)        0         \n",
      "_________________________________________________________________\n",
      "conv2d_4 (Conv2D)            (None, 8, 8, 18)          4518      \n",
      "_________________________________________________________________\n",
      "max_pooling2d_4 (MaxPooling2 (None, 4, 4, 18)          0         \n",
      "_________________________________________________________________\n",
      "flatten_4 (Flatten)          (None, 288)               0         \n",
      "_________________________________________________________________\n",
      "dense_4 (Dense)              (None, 10)                2890      \n",
      "=================================================================\n",
      "Total params: 7,668\n",
      "Trainable params: 7,668\n",
      "Non-trainable params: 0\n",
      "_________________________________________________________________\n"
     ]
    }
   ],
   "source": [
    "# Compiling models\n",
    "\n",
    "lab5m = lab5model()\n",
    "convm = convolutionalModel()\n",
    "\n",
    "# Learning rate\n",
    "alpha = 0.01\n",
    "\n",
    "# Compile models to improve based on Simple Gradient Descent and Mean Squared Erro\n",
    "lab5m.compile(optimizer='sgd', loss='mean_squared_error', metrics=['accuracy'])\n",
    "convm.compile(optimizer='sgd', loss='mean_squared_error', metrics=['accuracy'])\n",
    "\n",
    "# Print model summaries\n",
    "lab5m.summary()\n",
    "convm.summary()"
   ]
  },
  {
   "cell_type": "markdown",
   "metadata": {},
   "source": [
    "Going forward, I train the models.\n",
    "\n",
    "The X training data needs to have another dimension to properly be handled in\n",
    "the convolutional layer, so I reshape the data to fit a 28x28x1 3 dimensional array.\n",
    "\n",
    "Initially I evaluate the untrained models for their initial accuracy on the\n",
    "training dataset, this will come into play further on. Then I keep track of the history of accuracy after every epoch of training, which is every training pass through the entire dataset.\n",
    "\n",
    "Finally I convert the test data to the correct format and make sure that both models perform decently on data it has not seen before, this step is to ensure there is no overfitting in either model.\n",
    "\n",
    "Note: Training can take up to about 5 minutes to complete."
   ]
  },
  {
   "cell_type": "code",
   "execution_count": 15,
   "metadata": {},
   "outputs": [
    {
     "name": "stdout",
     "output_type": "stream",
     "text": [
      "Testing Lab 5 Model on new Test Data: \n",
      "10000/10000 [==============================] - 0s 25us/sample - loss: 0.0483 - accuracy: 0.8272\n",
      "Testing Convolutional Model on new Test Data: \n",
      "10000/10000 [==============================] - ETA: 0s - loss: 0.0406 - accuracy: 0.87 - 1s 86us/sample - loss: 0.0407 - accuracy: 0.8728\n"
     ]
    },
    {
     "data": {
      "text/plain": [
       "[0.04068161188364029, 0.8728]"
      ]
     },
     "execution_count": 15,
     "metadata": {},
     "output_type": "execute_result"
    }
   ],
   "source": [
    "# Training section\n",
    "\n",
    "# Reshape xTrainingData for input to convolutional layer\n",
    "xConvTrainingData = xTrainingData.reshape([-1, 28, 28, 1])\n",
    "\n",
    "# Training epochs\n",
    "numberOfEpochs = 10\n",
    "\n",
    "verb = 0 # If you would like to see the progress of each epoch of training set this to 1\n",
    "\n",
    "# Find initial accuracy before training\n",
    "lab5InitAcc = lab5m.evaluate(xTrainingData, yTrainingData, verbose=verb)[1]\n",
    "convInitAcc = convm.evaluate(xConvTrainingData, yTrainingData, verbose=verb)[1]\n",
    "\n",
    "# Traing models\n",
    "lab5mHistory = lab5m.fit(xTrainingData, yTrainingData, epochs=numberOfEpochs, verbose=verb)\n",
    "convmHistory = convm.fit(xConvTrainingData, yTrainingData, epochs=numberOfEpochs, verbose=verb)\n",
    "\n",
    "\n",
    "# Test models on data they have not trained on\n",
    "\n",
    "testSize = 10000\n",
    "\n",
    "xTestData, yTestData = gatherTrainingData(x_test, y_test, size=testSize)\n",
    "xConvTestData = xTestData.reshape([-1, 28, 28, 1])\n",
    "\n",
    "print(\"Testing Lab 5 Model on new Test Data: \")\n",
    "lab5m.evaluate(xTestData, yTestData)\n",
    "print(\"Testing Convolutional Model on new Test Data: \")\n",
    "convm.evaluate(xConvTestData, yTestData)\n"
   ]
  },
  {
   "cell_type": "markdown",
   "metadata": {},
   "source": [
    "Taking the initial accuracies and the accuracy at each epoch of training I can create the entire history of accuracy.\n",
    "\n",
    "Plotting this gives interesting results, where it seems that the lab 5 model initially benefits from training a little more than the convolutional model until a point between 1-4 epoch's where the convolutional model surpasses the lab 5 model in accuracy.\n",
    "\n",
    "Given the lack of data points this seems like a perfect opportunity to make the trends clearer by interpolating the data."
   ]
  },
  {
   "cell_type": "code",
   "execution_count": 16,
   "metadata": {},
   "outputs": [
    {
     "data": {
      "image/png": "[encoded data removed]",
      "text/plain": [
       "<Figure size 432x288 with 1 Axes>"
      ]
     },
     "metadata": {
      "needs_background": "light"
     },
     "output_type": "display_data"
    }
   ],
   "source": [
    "# Accuracy throughout training\n",
    "\n",
    "lab5Acc = [lab5InitAcc] + lab5mHistory.history['accuracy']\n",
    "convAcc = [convInitAcc] + convmHistory.history['accuracy']\n",
    "\n",
    "plt.plot(lab5Acc)\n",
    "plt.plot(convAcc)\n",
    "plt.show()"
   ]
  },
  {
   "cell_type": "markdown",
   "metadata": {},
   "source": [
    "Using scipy it is very simple to create a polynomial interpolation, specifically I chose to use cubic polynomal interpolation (CubicSpline).\n",
    "\n",
    "This makes the trend in data much clearer and gives a better estimate for the true crossover point between the two accuracy histories.\n",
    "\n",
    "Out of interest and application to the course, I will use interval bisection to find the point of intersection between the two interpolation curves."
   ]
  },
  {
   "cell_type": "code",
   "execution_count": 17,
   "metadata": {
    "scrolled": false
   },
   "outputs": [
    {
     "data": {
      "image/png": "[encoded data removed]",
      "text/plain": [
       "<Figure size 432x288 with 1 Axes>"
      ]
     },
     "metadata": {
      "needs_background": "light"
     },
     "output_type": "display_data"
    }
   ],
   "source": [
    "# Interpolate previously gathered information and plot\n",
    "\n",
    "lab5Interp = CubicSpline(range(11), lab5Acc)\n",
    "convInterp = CubicSpline(range(11), convAcc)\n",
    "\n",
    "epochRange = np.arange(0, 10, 0.1)\n",
    "\n",
    "lab5Range = lab5Interp(epochRange)\n",
    "convRange = convInterp(epochRange)\n",
    "\n",
    "plt.plot(epochRange, lab5Range)\n",
    "plt.plot(epochRange, convRange)\n",
    "plt.show()"
   ]
  },
  {
   "cell_type": "markdown",
   "metadata": {},
   "source": [
    "Implementing the interval bisection algorithm as specified in class, we can easily find the crossover point between epoch 1 and 4.\n",
    "\n",
    "To illustrate finding this point more clearly I replot the interpolation's with a vertical line to indicate crossover."
   ]
  },
  {
   "cell_type": "code",
   "execution_count": 18,
   "metadata": {
    "scrolled": true
   },
   "outputs": [
    {
     "data": {
      "image/png": "[encoded data removed]",
      "text/plain": [
       "<Figure size 432x288 with 1 Axes>"
      ]
     },
     "metadata": {
      "needs_background": "light"
     },
     "output_type": "display_data"
    },
    {
     "name": "stdout",
     "output_type": "stream",
     "text": [
      "Accuracy Crossover at: 2.0517578125\n"
     ]
    }
   ],
   "source": [
    "# Interval bisection for crossover of accuracy between models\n",
    "\n",
    "def f(x):\n",
    "    return convInterp(x) - lab5Interp(x)\n",
    "\n",
    "def interval_bisection(a, b, t):\n",
    "    while(b - a > t):\n",
    "        m = a + (b - a)/2\n",
    "        aSign = abs(f(a))/f(a)\n",
    "        mSign = abs(f(m))/f(m)\n",
    "        if aSign == mSign:\n",
    "            a = m\n",
    "        else:\n",
    "            b = m\n",
    "    return a + (b - a)/2\n",
    "\n",
    "cross = interval_bisection(1, 4, 0.01)\n",
    "\n",
    "plt.plot(epochRange, lab5Range)\n",
    "plt.plot(epochRange, convRange)\n",
    "plt.axvline(x=cross, color='green')\n",
    "plt.show()\n",
    "\n",
    "print(\"Accuracy Crossover at: \" + str(cross))"
   ]
  },
  {
   "cell_type": "markdown",
   "metadata": {},
   "source": [
    "In conclusion up to this point, it seems clear that the convolutional model has a higher capacity to accurately classify images in long term training. Oddly enough the simpler, pixel specific feed forward network from lab 5 seems to train a bit more effectively from the start, up until approximately 2 epochs. Ultimately it seems clear that the convolutional model performs much better for image classification, especially given that it has less parameters to perform gradient descent on in this specific experiment.\n",
    "\n",
    "To further analyse the impact of implementing convolutional layers in image classification I will introduce one more model which is identical to lab 5 apart from adding a single convolutional layer. This model will inherently have more parameters from going straight from the convolutional/max pooling layer into the 10 node dense layer. The intention of this model is to highlight the benefit of adding a convolutional layer."
   ]
  },
  {
   "cell_type": "code",
   "execution_count": 23,
   "metadata": {
    "scrolled": true
   },
   "outputs": [
    {
     "name": "stdout",
     "output_type": "stream",
     "text": [
      "Model: \"Lab5PlusConvolutionalLayerModel\"\n",
      "_________________________________________________________________\n",
      "Layer (type)                 Output Shape              Param #   \n",
      "=================================================================\n",
      "conv2d_7 (Conv2D)            (None, 24, 24, 10)        260       \n",
      "_________________________________________________________________\n",
      "max_pooling2d_7 (MaxPooling2 (None, 12, 12, 10)        0         \n",
      "_________________________________________________________________\n",
      "flatten_7 (Flatten)          (None, 1440)              0         \n",
      "_________________________________________________________________\n",
      "dense_7 (Dense)              (None, 10)                14410     \n",
      "=================================================================\n",
      "Total params: 14,670\n",
      "Trainable params: 14,670\n",
      "Non-trainable params: 0\n",
      "_________________________________________________________________\n",
      "Train on 20000 samples\n",
      "Epoch 1/10\n",
      "20000/20000 [==============================] - 3s 151us/sample - loss: 0.0770 - accuracy: 0.5048 - loss: 0.0780 - accuracy\n",
      "Epoch 2/10\n",
      "20000/20000 [==============================] - 3s 143us/sample - loss: 0.0567 - accuracy: 0.7445\n",
      "Epoch 3/10\n",
      "20000/20000 [==============================] - 3s 141us/sample - loss: 0.0509 - accuracy: 0.7937\n",
      "Epoch 4/10\n",
      "20000/20000 [==============================] - 3s 135us/sample - loss: 0.0479 - accuracy: 0.8177\n",
      "Epoch 5/10\n",
      "20000/20000 [==============================] - 3s 135us/sample - loss: 0.0460 - accuracy: 0.8307\n",
      "Epoch 6/10\n",
      "20000/20000 [==============================] - 3s 136us/sample - loss: 0.0445 - accuracy: 0.8403\n",
      "Epoch 7/10\n",
      "20000/20000 [==============================] - 3s 134us/sample - loss: 0.0433 - accuracy: 0.8475\n",
      "Epoch 8/10\n",
      "20000/20000 [==============================] - 3s 131us/sample - loss: 0.0423 - accuracy: 0.8529\n",
      "Epoch 9/10\n",
      "20000/20000 [==============================] - 3s 132us/sample - loss: 0.0414 - accuracy: 0.8572\n",
      "Epoch 10/10\n",
      "20000/20000 [==============================] - 3s 131us/sample - loss: 0.0406 - accuracy: 0.8613\n"
     ]
    }
   ],
   "source": [
    "# Lab 5 model with convolutional layer implementation\n",
    "\n",
    "def lab5plusConvModel():\n",
    "    model = Sequential([\n",
    "        Conv2D(10, (5,5), input_shape=(28,28,1)),\n",
    "        MaxPooling2D(pool_size=(2,2)),\n",
    "        Flatten(),\n",
    "        Dense(10, use_bias=True)\n",
    "    ], name='Lab5PlusConvolutionalLayerModel')\n",
    "    return model\n",
    "\n",
    "lab5plusm = lab5plusConvModel()\n",
    "\n",
    "lab5plusm.compile(optimizer='sgd', loss='mean_squared_error', metrics=['accuracy'])\n",
    "\n",
    "lab5plusm.summary()\n",
    "\n",
    "lab5plusInitAcc = lab5plusm.evaluate(xConvTrainingData, yTrainingData, verbose=0)[1]\n",
    "\n",
    "lab5plusmHistory = lab5plusm.fit(xConvTrainingData, yTrainingData, epochs=numberOfEpochs, verbose=1)"
   ]
  },
  {
   "cell_type": "markdown",
   "metadata": {},
   "source": [
    "Here we see a clear boost in long term performance whilst also keeping up with the initial accuracy improvement from the simple lab 5 feed forward model."
   ]
  },
  {
   "cell_type": "code",
   "execution_count": 24,
   "metadata": {},
   "outputs": [
    {
     "data": {
      "image/png": "[encoded data removed]",
      "text/plain": [
       "<Figure size 432x288 with 1 Axes>"
      ]
     },
     "metadata": {
      "needs_background": "light"
     },
     "output_type": "display_data"
    }
   ],
   "source": [
    "# Plotting training of lab 5 model with and without convolutional layer\n",
    "\n",
    "lab5plusAcc = [lab5plusInitAcc] + lab5plusmHistory.history['accuracy']\n",
    "\n",
    "lab5plusInterp = CubicSpline(range(11), lab5plusAcc)\n",
    "\n",
    "lab5plusRange = lab5plusInterp(epochRange)\n",
    "\n",
    "plt.plot(epochRange, lab5Range)\n",
    "plt.plot(epochRange, lab5plusRange)\n",
    "plt.show()"
   ]
  },
  {
   "cell_type": "markdown",
   "metadata": {},
   "source": [
    "To wrap this whole project up, there is a clear benefit to using convolutional layers in long term training accuracy capacity. Although a regular feed forward network has a boost in initial training. Combining both convolutional layers with wide feed forward layers allows for better image feature identification in the convolutional layers in addition to the specific analysis of these features from fully connected feed forward layers come together to result in fantastic performance in image classification. If I were to continue this project I would have liked to do more complex data analysis on multiple training runs of the same models to create more comprehensive results to quantify the impact of implementing convolutional layers for image classification."
   ]
  },
  {
   "cell_type": "markdown",
   "metadata": {},
   "source": [
    "I really appreciated this project in respect to finally having an opportunity to dive into tensorflow/keras. In my other machine learning courses I have taken so far, the focus has been more about building a ML algorithm from scratch. Although I find it more satisfying to write from scratch, the ability to quickly and effectively implement ML in a real world scenario is an incredibly powerful tool that I have gotten to know much more in detail by reading through the keras documentation for implementation."
   ]
  }
 ],
 "metadata": {
  "kernelspec": {
   "display_name": "Python 3",
   "language": "python",
   "name": "python3"
  },
  "language_info": {
   "codemirror_mode": {
    "name": "ipython",
    "version": 3
   },
   "file_extension": ".py",
   "mimetype": "text/x-python",
   "name": "python",
   "nbconvert_exporter": "python",
   "pygments_lexer": "ipython3",
   "version": "3.7.2"
  }
 },
 "nbformat": 4,
 "nbformat_minor": 2
}
